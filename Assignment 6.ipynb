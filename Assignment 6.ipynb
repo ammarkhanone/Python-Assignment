{
 "cells": [
  {
   "cell_type": "code",
   "execution_count": 2,
   "metadata": {},
   "outputs": [],
   "source": [
    "class Car():\n",
    "    #Attributes As Variable\n",
    "    def __init__(self, make, model, year, light, doors): #initializer by function define\n",
    "        self.make = make         #Set_Variable1\n",
    "        self.model = model       #Set_Variable2\n",
    "        self.year = year         #Set_Variable3\n",
    "        self.light = year        #Set_Variable3\n",
    "        self.doors = doors       #Set_Variable3\n",
    "#Adding An Attribute\n",
    "        self.battery = \"200Amp\" #Default Attributes, because didn't mention in the initializer list.\n",
    "#Behaviour as Functions\n",
    "    def description(self):       #defining functions\n",
    "        print(f\"The Make of the car is {self.make}\")\n",
    "        print(f\"The Model of the car is {self.model}\")\n",
    "        print(f\"The Year of the car is {self.year}\")\n",
    "    def move(self):              #defining functions \n",
    "        print(f\" The {self.make} is moving with speed\")\n",
    "    def applyingbreak(self):             #defining functions\n",
    "        print(f\" The {self.model} is getting slow\")\n",
    "    def speedUp(self):               #defining functions\n",
    "        print(f\"The {self.make} is Accelerating Up\")\n",
    "    def speeddown(self):             #defining functions\n",
    "        print(f\"The {self.model} is Speeding Down\")\n",
    "    def desbattery(self):\n",
    "        print(f\"The Battery of Car is {self.battery}\")\n",
    "    def getbatterySize(self):\n",
    "        print(f\"The Size Of Your Car's Battery is {self.battery}\")"
   ]
  },
  {
   "cell_type": "code",
   "execution_count": 24,
   "metadata": {},
   "outputs": [],
   "source": [
    "car1 = Car(\"Honda\", \"Civic\", 1976, \"White\", 4)"
   ]
  },
  {
   "cell_type": "code",
   "execution_count": 25,
   "metadata": {},
   "outputs": [],
   "source": [
    "car2 = Car(\"Suzuki\", \"Bolan\", 1970, \"Green\", 6)"
   ]
  },
  {
   "cell_type": "code",
   "execution_count": 26,
   "metadata": {},
   "outputs": [],
   "source": [
    "car3 = Car(\"Nissan\", \"Sunny\", 1975, \"Yellow\", 4)"
   ]
  },
  {
   "cell_type": "code",
   "execution_count": 27,
   "metadata": {},
   "outputs": [],
   "source": [
    "car4 = Car(\"Toyota\", \"Corola\", 1986, \"Blue\", 4)"
   ]
  },
  {
   "cell_type": "code",
   "execution_count": 28,
   "metadata": {},
   "outputs": [],
   "source": [
    "car5 = Car(\"Honda\", \"Dolphin\", 2000, \"Purple\", 2)"
   ]
  },
  {
   "cell_type": "code",
   "execution_count": 29,
   "metadata": {},
   "outputs": [
    {
     "data": {
      "text/plain": [
       "'200Amp'"
      ]
     },
     "execution_count": 29,
     "metadata": {},
     "output_type": "execute_result"
    }
   ],
   "source": [
    "car1.battery"
   ]
  },
  {
   "cell_type": "code",
   "execution_count": 30,
   "metadata": {},
   "outputs": [
    {
     "data": {
      "text/plain": [
       "'200Amp'"
      ]
     },
     "execution_count": 30,
     "metadata": {},
     "output_type": "execute_result"
    }
   ],
   "source": [
    "car2.battery"
   ]
  },
  {
   "cell_type": "code",
   "execution_count": 31,
   "metadata": {},
   "outputs": [
    {
     "data": {
      "text/plain": [
       "'200Amp'"
      ]
     },
     "execution_count": 31,
     "metadata": {},
     "output_type": "execute_result"
    }
   ],
   "source": [
    "car3.battery"
   ]
  },
  {
   "cell_type": "code",
   "execution_count": 32,
   "metadata": {},
   "outputs": [
    {
     "data": {
      "text/plain": [
       "'200Amp'"
      ]
     },
     "execution_count": 32,
     "metadata": {},
     "output_type": "execute_result"
    }
   ],
   "source": [
    "car4.battery"
   ]
  },
  {
   "cell_type": "code",
   "execution_count": 33,
   "metadata": {},
   "outputs": [
    {
     "data": {
      "text/plain": [
       "'200Amp'"
      ]
     },
     "execution_count": 33,
     "metadata": {},
     "output_type": "execute_result"
    }
   ],
   "source": [
    "car5.battery"
   ]
  },
  {
   "cell_type": "code",
   "execution_count": 34,
   "metadata": {},
   "outputs": [],
   "source": [
    "car5.battery = \"300Amp\""
   ]
  },
  {
   "cell_type": "code",
   "execution_count": 35,
   "metadata": {},
   "outputs": [
    {
     "data": {
      "text/plain": [
       "'300Amp'"
      ]
     },
     "execution_count": 35,
     "metadata": {},
     "output_type": "execute_result"
    }
   ],
   "source": [
    "car5.battery"
   ]
  },
  {
   "cell_type": "code",
   "execution_count": 36,
   "metadata": {},
   "outputs": [
    {
     "name": "stdout",
     "output_type": "stream",
     "text": [
      "The Make of the car is Honda\n",
      "The Model of the car is Dolphin\n",
      "The Year of the car is 2000\n"
     ]
    }
   ],
   "source": [
    "car5.description()"
   ]
  },
  {
   "cell_type": "code",
   "execution_count": 37,
   "metadata": {},
   "outputs": [
    {
     "name": "stdout",
     "output_type": "stream",
     "text": [
      " The Suzuki is moving with speed\n"
     ]
    }
   ],
   "source": [
    "car2.move()"
   ]
  },
  {
   "cell_type": "code",
   "execution_count": 38,
   "metadata": {},
   "outputs": [
    {
     "name": "stdout",
     "output_type": "stream",
     "text": [
      "The Nissan is Accelerating Up\n"
     ]
    }
   ],
   "source": [
    "car3.speedUp()"
   ]
  },
  {
   "cell_type": "code",
   "execution_count": 39,
   "metadata": {},
   "outputs": [
    {
     "name": "stdout",
     "output_type": "stream",
     "text": [
      "The Battery of Car is 200Amp\n"
     ]
    }
   ],
   "source": [
    "car1.desbattery()"
   ]
  },
  {
   "cell_type": "code",
   "execution_count": 40,
   "metadata": {},
   "outputs": [
    {
     "name": "stdout",
     "output_type": "stream",
     "text": [
      " The Civic is getting slow\n"
     ]
    }
   ],
   "source": [
    "car1.applyingbreak()"
   ]
  },
  {
   "cell_type": "code",
   "execution_count": 41,
   "metadata": {},
   "outputs": [
    {
     "name": "stdout",
     "output_type": "stream",
     "text": [
      " The Bolan is getting slow\n"
     ]
    }
   ],
   "source": [
    "car2.applyingbreak()"
   ]
  },
  {
   "cell_type": "code",
   "execution_count": 42,
   "metadata": {},
   "outputs": [
    {
     "name": "stdout",
     "output_type": "stream",
     "text": [
      " The Sunny is getting slow\n"
     ]
    }
   ],
   "source": [
    "car3.applyingbreak()"
   ]
  },
  {
   "cell_type": "code",
   "execution_count": 43,
   "metadata": {},
   "outputs": [
    {
     "name": "stdout",
     "output_type": "stream",
     "text": [
      " The Corola is getting slow\n"
     ]
    }
   ],
   "source": [
    "car4.applyingbreak()"
   ]
  },
  {
   "cell_type": "code",
   "execution_count": 44,
   "metadata": {},
   "outputs": [
    {
     "name": "stdout",
     "output_type": "stream",
     "text": [
      "The Size Of Your Car's Battery is 300Amp\n"
     ]
    }
   ],
   "source": [
    "car5.getbatterySize()"
   ]
  },
  {
   "cell_type": "code",
   "execution_count": null,
   "metadata": {},
   "outputs": [],
   "source": []
  }
 ],
 "metadata": {
  "kernelspec": {
   "display_name": "Python 3",
   "language": "python",
   "name": "python3"
  },
  "language_info": {
   "codemirror_mode": {
    "name": "ipython",
    "version": 3
   },
   "file_extension": ".py",
   "mimetype": "text/x-python",
   "name": "python",
   "nbconvert_exporter": "python",
   "pygments_lexer": "ipython3",
   "version": "3.7.4"
  }
 },
 "nbformat": 4,
 "nbformat_minor": 2
}
