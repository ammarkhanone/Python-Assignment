{
 "cells": [
  {
   "cell_type": "code",
   "execution_count": 1,
   "metadata": {},
   "outputs": [
    {
     "name": "stdout",
     "output_type": "stream",
     "text": [
      "Twinkle, twinkle, little star, \n",
      "      How I wonder what you are! \n",
      "            Up above the world so high, \n",
      "            Like a diamond in the sky. \n",
      "Twinkle, twinkle, little star, \n",
      "      How I wonder what you are\n"
     ]
    }
   ],
   "source": [
    "print(\"Twinkle, twinkle, little star, \\n      How I wonder what you are! \\n            Up above the world so high, \\n            Like a diamond in the sky. \\nTwinkle, twinkle, little star, \\n      How I wonder what you are\")"
   ]
  },
  {
   "cell_type": "code",
   "execution_count": 1,
   "metadata": {},
   "outputs": [
    {
     "name": "stdout",
     "output_type": "stream",
     "text": [
      "Which Python version are you using?\n",
      "3.0\n",
      "Good!\n"
     ]
    }
   ],
   "source": [
    "input(\"Which Python version are you using?\\n\")\n",
    "print(\"Good!\")"
   ]
  },
  {
   "cell_type": "code",
   "execution_count": 2,
   "metadata": {},
   "outputs": [
    {
     "name": "stdout",
     "output_type": "stream",
     "text": [
      "Current Date and Time:\n",
      "3 November 2019\n",
      "11 PM\n"
     ]
    }
   ],
   "source": [
    "date=\"3 November 2019\"\n",
    "time=\"11 PM\"\n",
    "print(\"Current Date and Time:\")\n",
    "print(date)\n",
    "print(time)\n"
   ]
  },
  {
   "cell_type": "code",
   "execution_count": 22,
   "metadata": {},
   "outputs": [
    {
     "name": "stdout",
     "output_type": "stream",
     "text": [
      "Enter the value of Radius:8\n",
      "Area of Circle\n",
      "201.06176\n"
     ]
    }
   ],
   "source": [
    "r=int(input(\"Enter the value of Radius:\"))\n",
    "Area=3.14159*(r**2)\n",
    "print(\"Area of Circle\")\n",
    "print(Area)"
   ]
  },
  {
   "cell_type": "code",
   "execution_count": 3,
   "metadata": {},
   "outputs": [
    {
     "name": "stdout",
     "output_type": "stream",
     "text": [
      "Your first name:Ammar\n",
      "Your last name:Khan\n",
      "Khan Ammar\n"
     ]
    }
   ],
   "source": [
    "a=input(\"Your first name:\")\n",
    "b=input(\"Your last name:\")\n",
    "print(b+\" \"+a)"
   ]
  },
  {
   "cell_type": "code",
   "execution_count": 4,
   "metadata": {},
   "outputs": [
    {
     "name": "stdout",
     "output_type": "stream",
     "text": [
      "Enter first vale:10\n",
      "Enter second value:5\n",
      "15\n"
     ]
    }
   ],
   "source": [
    "a=int(input(\"Enter first vale:\"))\n",
    "b=int(input(\"Enter second value:\"))\n",
    "c=b+a\n",
    "print(c)"
   ]
  },
  {
   "cell_type": "code",
   "execution_count": null,
   "metadata": {},
   "outputs": [],
   "source": []
  }
 ],
 "metadata": {
  "kernelspec": {
   "display_name": "Python 3",
   "language": "python",
   "name": "python3"
  },
  "language_info": {
   "codemirror_mode": {
    "name": "ipython",
    "version": 3
   },
   "file_extension": ".py",
   "mimetype": "text/x-python",
   "name": "python",
   "nbconvert_exporter": "python",
   "pygments_lexer": "ipython3",
   "version": "3.7.4"
  }
 },
 "nbformat": 4,
 "nbformat_minor": 2
}
