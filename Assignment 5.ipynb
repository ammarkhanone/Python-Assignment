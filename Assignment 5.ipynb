{
 "cells": [
  {
   "cell_type": "code",
   "execution_count": 2,
   "metadata": {},
   "outputs": [
    {
     "name": "stdout",
     "output_type": "stream",
     "text": [
      "The factorial of 7 is 5040\n"
     ]
    }
   ],
   "source": [
    "num=7\n",
    "factorial = 1\n",
    "# check if the number is negative, positive or zero\n",
    "if num < 0:\n",
    "   print(\"Sorry, factorial does not exist for negative numbers\")\n",
    "elif num == 0:\n",
    "   print(\"The factorial of 0 is 1\")\n",
    "else:\n",
    "   for i in range(1,num + 1):\n",
    "       factorial = factorial*i\n",
    "   print(\"The factorial of\",num,\"is\",factorial)"
   ]
  },
  {
   "cell_type": "code",
   "execution_count": 3,
   "metadata": {},
   "outputs": [
    {
     "name": "stdout",
     "output_type": "stream",
     "text": [
      "Original String:  A QUICK BROWN FOX, Jump OVER The Lazy Dog\n",
      "Total Upper Case:  22\n",
      "Total LOWER Case:  10\n"
     ]
    }
   ],
   "source": [
    "def countcase(strdata):\n",
    "    sencase = {'UCASE':0, \"LCASE\":0}\n",
    "    for k in strdata:\n",
    "        if k.isupper():\n",
    "            sencase[\"UCASE\"]+=1\n",
    "        elif k.islower():\n",
    "            sencase[\"LCASE\"]+=1\n",
    "        else:\n",
    "            pass\n",
    "    print('Original String: ', strdata)\n",
    "    print('Total Upper Case: ', sencase['UCASE'])\n",
    "    print('Total LOWER Case: ', sencase['LCASE'])\n",
    "\n",
    "countcase(\"A QUICK BROWN FOX, Jump OVER The Lazy Dog\")"
   ]
  },
  {
   "cell_type": "code",
   "execution_count": 4,
   "metadata": {},
   "outputs": [
    {
     "name": "stdout",
     "output_type": "stream",
     "text": [
      "[2]\n",
      "[2, 4]\n",
      "[2, 4, 6]\n",
      "[2, 4, 6, 8]\n",
      "[2, 4, 6, 8, 10]\n"
     ]
    }
   ],
   "source": [
    "xs = [1, 2, 3, 4, 5, 6, 7, 8, 9, 10]\n",
    "even_No = []\n",
    "#odd_No = []\n",
    "def even():\n",
    "    for e in xs:\n",
    "        if e % 2 == 0:\n",
    "            even_No.append(e)\n",
    "            print(even_No)\n",
    "even()"
   ]
  },
  {
   "cell_type": "code",
   "execution_count": 6,
   "metadata": {},
   "outputs": [
    {
     "name": "stdout",
     "output_type": "stream",
     "text": [
      "Enter a String: detartrated\n",
      "string:  detartrated\n",
      "Reverse:  detartrated\n",
      "It is a Palindrome\n"
     ]
    }
   ],
   "source": [
    "def check(PalinDrome):\n",
    "    rev=PalinDrome[::-1]\n",
    "    print(\"string: \", PalinDrome)\n",
    "    print(\"Reverse: \", rev)\n",
    "    if (PalinDrome==rev):\n",
    "        return True\n",
    "    else:\n",
    "        return False\n",
    "\n",
    "x = input(\"Enter a String: \")\n",
    "if check(x):\n",
    "    print(\"It is a Palindrome\")\n",
    "else:\n",
    "    print(\"It is NOT A Palindrome\")"
   ]
  },
  {
   "cell_type": "code",
   "execution_count": 7,
   "metadata": {},
   "outputs": [
    {
     "name": "stdout",
     "output_type": "stream",
     "text": [
      "Enter Any Positive Number to Check It is Prime Or NOT: 7\n",
      "7 is a Prime Number\n"
     ]
    }
   ],
   "source": [
    "def number():\n",
    "    n = int(input(\"Enter Any Positive Number to Check It is Prime Or NOT: \"))\n",
    "    if n > 1:\n",
    "        for p in range(2, n):\n",
    "            if (n % p) == 0:\n",
    "                print(n, \"is NOT a Prime Number\")\n",
    "                break\n",
    "        else:\n",
    "            print(n, \"is a Prime Number\")\n",
    "    else:\n",
    "        print(n, \"is not a Prime Number\")\n",
    "\n",
    "number()"
   ]
  },
  {
   "cell_type": "code",
   "execution_count": 8,
   "metadata": {},
   "outputs": [
    {
     "name": "stdout",
     "output_type": "stream",
     "text": [
      "Enter Any Positive Number to Check It is Prime Or NOT: 6\n",
      "6 is NOT a Prime Number\n"
     ]
    }
   ],
   "source": [
    "number()"
   ]
  },
  {
   "cell_type": "code",
   "execution_count": 10,
   "metadata": {},
   "outputs": [
    {
     "ename": "TypeError",
     "evalue": "customer() got an unexpected keyword argument 'grocessories'",
     "output_type": "error",
     "traceback": [
      "\u001b[1;31m---------------------------------------------------------------------------\u001b[0m",
      "\u001b[1;31mTypeError\u001b[0m                                 Traceback (most recent call last)",
      "\u001b[1;32m<ipython-input-10-5349d768ed2c>\u001b[0m in \u001b[0;36m<module>\u001b[1;34m\u001b[0m\n\u001b[0;32m      3\u001b[0m     \u001b[1;32mfor\u001b[0m \u001b[0mvalue\u001b[0m \u001b[1;32min\u001b[0m \u001b[0mgrocessories\u001b[0m\u001b[1;33m.\u001b[0m\u001b[0mvalues\u001b[0m\u001b[1;33m(\u001b[0m\u001b[1;33m)\u001b[0m\u001b[1;33m:\u001b[0m\u001b[1;33m\u001b[0m\u001b[1;33m\u001b[0m\u001b[0m\n\u001b[0;32m      4\u001b[0m         \u001b[0mprint\u001b[0m\u001b[1;33m(\u001b[0m\u001b[0mvalue\u001b[0m\u001b[1;33m)\u001b[0m\u001b[1;33m\u001b[0m\u001b[1;33m\u001b[0m\u001b[0m\n\u001b[1;32m----> 5\u001b[1;33m \u001b[0mcustomer\u001b[0m\u001b[1;33m(\u001b[0m\u001b[1;34m\"Osama\"\u001b[0m\u001b[1;33m,\u001b[0m \u001b[1;34m\"Tariq\"\u001b[0m\u001b[1;33m,\u001b[0m \u001b[0mgrocessories\u001b[0m \u001b[1;33m=\u001b[0m \u001b[1;34m\"Sugar\"\u001b[0m\u001b[1;33m)\u001b[0m\u001b[1;33m\u001b[0m\u001b[1;33m\u001b[0m\u001b[0m\n\u001b[0m",
      "\u001b[1;31mTypeError\u001b[0m: customer() got an unexpected keyword argument 'grocessories'"
     ]
    }
   ],
   "source": [
    "def customer(name, fname, *grocessories):\n",
    "    print(name + \" \" + fname + \" \")\n",
    "    for value in grocessories.values():\n",
    "        print(value)\n",
    "customer(\"Osama\", \"Tariq\", grocessories = \"Sugar\")"
   ]
  },
  {
   "cell_type": "code",
   "execution_count": null,
   "metadata": {},
   "outputs": [],
   "source": []
  }
 ],
 "metadata": {
  "kernelspec": {
   "display_name": "Python 3",
   "language": "python",
   "name": "python3"
  },
  "language_info": {
   "codemirror_mode": {
    "name": "ipython",
    "version": 3
   },
   "file_extension": ".py",
   "mimetype": "text/x-python",
   "name": "python",
   "nbconvert_exporter": "python",
   "pygments_lexer": "ipython3",
   "version": "3.7.4"
  }
 },
 "nbformat": 4,
 "nbformat_minor": 2
}
