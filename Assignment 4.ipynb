{
 "cells": [
  {
   "cell_type": "code",
   "execution_count": 2,
   "metadata": {},
   "outputs": [
    {
     "data": {
      "text/plain": [
       "{'first_name': 'Osama', 'second_name': 'Tariq', 'age': 22, 'city': 'Karachi'}"
      ]
     },
     "execution_count": 2,
     "metadata": {},
     "output_type": "execute_result"
    }
   ],
   "source": [
    "person = {\n",
    "    \"first_name\": \"Osama\",\n",
    "    \"second_name\": \"Tariq\",\n",
    "    \"age\": 22,\n",
    "    \"city\": \"Karachi\"\n",
    "        }\n",
    "person"
   ]
  },
  {
   "cell_type": "code",
   "execution_count": 3,
   "metadata": {},
   "outputs": [
    {
     "data": {
      "text/plain": [
       "{'first_name': 'Osama',\n",
       " 'second_name': 'Tariq',\n",
       " 'age': 22,\n",
       " 'city': 'Karachi',\n",
       " 'qualification': 'High Academic Level'}"
      ]
     },
     "execution_count": 3,
     "metadata": {},
     "output_type": "execute_result"
    }
   ],
   "source": [
    "person[\"qualification\"] = (\"High Academic Level\")\n",
    "person"
   ]
  },
  {
   "cell_type": "code",
   "execution_count": 4,
   "metadata": {},
   "outputs": [
    {
     "name": "stdout",
     "output_type": "stream",
     "text": [
      "{'first_name': 'Osama', 'second_name': 'Tariq', 'age': 22, 'city': 'Karachi'}\n"
     ]
    }
   ],
   "source": [
    "del person['qualification']\n",
    "print(person)    "
   ]
  },
  {
   "cell_type": "code",
   "execution_count": 5,
   "metadata": {},
   "outputs": [
    {
     "name": "stdout",
     "output_type": "stream",
     "text": [
      "['Pakistan', 'Economic Hub', 'Sindh Province', 'Largest City', 'Population 15,741,406(2019)']\n"
     ]
    }
   ],
   "source": [
    "cities = {\n",
    "    'Karachi': ['Pakistan','Economic Hub','Sindh Province', 'Largest City', 'Population 15,741,406(2019)'],\n",
    "          'Lahore': ['Pakistan', 'Historical','Punjab Province', 'Smallest City', 'Population 12,188,196(2019)'],\n",
    "          'Islamabad':['Pakistan', 'Capital Of Pakistan','Punjab Province', 'larger than Lahore', 'Populaton 1,095,064(2019)'],\n",
    "}\n",
    "print(cities['Karachi'])"
   ]
  },
  {
   "cell_type": "code",
   "execution_count": 6,
   "metadata": {},
   "outputs": [
    {
     "name": "stdout",
     "output_type": "stream",
     "text": [
      "['Pakistan', 'Historical', 'Punjab Province', 'Smallest City', 'Population 12,188,196(2019)']\n"
     ]
    }
   ],
   "source": [
    "print(cities['Lahore'])"
   ]
  },
  {
   "cell_type": "code",
   "execution_count": 7,
   "metadata": {},
   "outputs": [
    {
     "name": "stdout",
     "output_type": "stream",
     "text": [
      "['Pakistan', 'Capital Of Pakistan', 'Punjab Province', 'larger than Lahore', 'Populaton 1,095,064(2019)']\n"
     ]
    }
   ],
   "source": [
    "print(cities['Islamabad'])"
   ]
  },
  {
   "cell_type": "code",
   "execution_count": 8,
   "metadata": {},
   "outputs": [
    {
     "name": "stdout",
     "output_type": "stream",
     "text": [
      "Enter your age: 22\n",
      "your ticket prize is $15\n"
     ]
    }
   ],
   "source": [
    "age = int(input('Enter your age: '))\n",
    "if age <= 3:\n",
    "    print('your ticket is Free')\n",
    "elif age <=12:\n",
    "    print('your ticket prize is $10')\n",
    "elif age >=12:\n",
    "    print('your ticket prize is $15')"
   ]
  },
  {
   "cell_type": "code",
   "execution_count": 10,
   "metadata": {},
   "outputs": [
    {
     "name": "stdout",
     "output_type": "stream",
     "text": [
      "Enter your Favorite Book: A Game of Thrones\n",
      "My Favourite Book Is A Game of Thrones\n"
     ]
    }
   ],
   "source": [
    "def favourite_book():\n",
    "    favourite_book = input(\"Enter your Favorite Book: \")\n",
    "    print(\"My Favourite Book Is\", favourite_book)\n",
    "\n",
    "favourite_book()"
   ]
  },
  {
   "cell_type": "code",
   "execution_count": 11,
   "metadata": {},
   "outputs": [
    {
     "name": "stdout",
     "output_type": "stream",
     "text": [
      "10\n",
      "Enter your Lucky Number: 7\n",
      "Your guess is too Low\n"
     ]
    }
   ],
   "source": [
    "import random\n",
    "hidden = random.randrange(1, 30)\n",
    "print(hidden)\n",
    "\n",
    "guess = int(input('Enter your Lucky Number: '))\n",
    "\n",
    "if guess == hidden:\n",
    "    print('HIT.!')\n",
    "elif guess < hidden:\n",
    "    print('Your guess is too Low')\n",
    "elif guess > hidden:\n",
    "    print('Your guess is too High')"
   ]
  },
  {
   "cell_type": "code",
   "execution_count": null,
   "metadata": {},
   "outputs": [],
   "source": []
  },
  {
   "cell_type": "code",
   "execution_count": null,
   "metadata": {},
   "outputs": [],
   "source": []
  }
 ],
 "metadata": {
  "kernelspec": {
   "display_name": "Python 3",
   "language": "python",
   "name": "python3"
  },
  "language_info": {
   "codemirror_mode": {
    "name": "ipython",
    "version": 3
   },
   "file_extension": ".py",
   "mimetype": "text/x-python",
   "name": "python",
   "nbconvert_exporter": "python",
   "pygments_lexer": "ipython3",
   "version": "3.7.4"
  }
 },
 "nbformat": 4,
 "nbformat_minor": 2
}
