{
 "cells": [
  {
   "cell_type": "code",
   "execution_count": 2,
   "metadata": {},
   "outputs": [
    {
     "name": "stdout",
     "output_type": "stream",
     "text": [
      "Enter first value6\n",
      "Enter second value7\n",
      "Enter Operator**\n",
      "279936 answer\n"
     ]
    }
   ],
   "source": [
    "val1=int(input(\"Enter first value\"))\n",
    "val2=int(input(\"Enter second value\"))\n",
    "operator= input(\"Enter Operator\")\n",
    "\n",
    "if operator=='+':\n",
    "    val=val1+val2\n",
    "    print(val,\"answer\")\n",
    "elif operator=='-':\n",
    "    val=val1-val2\n",
    "    print(val,'answer')\n",
    "elif operator=='*':\n",
    "    val=val1*val2\n",
    "    print(val,\"answer\")\n",
    "elif operator=='/':\n",
    "    val=val1/val2\n",
    "    print(val,\"answer\") \n",
    "elif operator=='**':\n",
    "    val=val1**val2\n",
    "    print(val,\"answer\")    \n",
    "else:\n",
    "    print('Enter Correct Operator')"
   ]
  },
  {
   "cell_type": "code",
   "execution_count": 15,
   "metadata": {},
   "outputs": [
    {
     "name": "stdout",
     "output_type": "stream",
     "text": [
      "Numeric Value Exists\n"
     ]
    }
   ],
   "source": [
    "test_list = [\"Ali\",6,\"Pakistan\",4,3]\n",
    "for i in test_list: \n",
    "    if(i == 4) : \n",
    "        print (\"Numeric Value Exists\")"
   ]
  },
  {
   "cell_type": "code",
   "execution_count": 14,
   "metadata": {},
   "outputs": [
    {
     "name": "stdout",
     "output_type": "stream",
     "text": [
      "{'first name': 'David', 'last name': 'Eliot', 'address': '4803 Wellesley St.'}\n",
      "{'first name': 'David', 'last name': 'Eliot', 'address': '4803 Wellesley St.', 'language': 'English'}\n"
     ]
    }
   ],
   "source": [
    "customer={\"first name\":\"David\",\"last name\":\"Eliot\",\"address\":\"4803 Wellesley St.\"}\n",
    "print(customer)\n",
    "customer.update({\"language\":\"English\"})\n",
    "print(customer)"
   ]
  },
  {
   "cell_type": "code",
   "execution_count": 18,
   "metadata": {},
   "outputs": [
    {
     "name": "stdout",
     "output_type": "stream",
     "text": [
      "293\n"
     ]
    }
   ],
   "source": [
    "my_dict = {'data1':100,'data2':-54,'data3':247}\n",
    "print(sum(my_dict.values()))"
   ]
  },
  {
   "cell_type": "code",
   "execution_count": 21,
   "metadata": {},
   "outputs": [
    {
     "name": "stdout",
     "output_type": "stream",
     "text": [
      "[20, 30, -20, 60]\n"
     ]
    }
   ],
   "source": [
    " def Repeat(x): \n",
    "    _size = len(x) \n",
    "    repeated = [] \n",
    "    for i in range(_size): \n",
    "        k = i + 1\n",
    "        for j in range(k, _size): \n",
    "            if x[i] == x[j] and x[i] not in repeated: \n",
    "                repeated.append(x[i]) \n",
    "    return repeated \n",
    "list1 = [10, 20, 30, 20, 20, 30, 40,  \n",
    "         50, -20, 60, 60, -20, -20] \n",
    "print (Repeat(list1)) "
   ]
  },
  {
   "cell_type": "code",
   "execution_count": 20,
   "metadata": {},
   "outputs": [
    {
     "name": "stdout",
     "output_type": "stream",
     "text": [
      "Key is present in the dictionary\n",
      "Key is not present in the dictionary\n"
     ]
    }
   ],
   "source": [
    "d = {1: 10, 2: 20, 3: 30, 4: 40, 5: 50, 6: 60}\n",
    "def is_key_present(x):\n",
    "  if x in d:\n",
    "      print('Key is present in the dictionary')\n",
    "  else:\n",
    "      print('Key is not present in the dictionary')\n",
    "is_key_present(5)\n",
    "is_key_present(9)"
   ]
  },
  {
   "cell_type": "code",
   "execution_count": null,
   "metadata": {},
   "outputs": [],
   "source": []
  }
 ],
 "metadata": {
  "kernelspec": {
   "display_name": "Python 3",
   "language": "python",
   "name": "python3"
  },
  "language_info": {
   "codemirror_mode": {
    "name": "ipython",
    "version": 3
   },
   "file_extension": ".py",
   "mimetype": "text/x-python",
   "name": "python",
   "nbconvert_exporter": "python",
   "pygments_lexer": "ipython3",
   "version": "3.7.4"
  }
 },
 "nbformat": 4,
 "nbformat_minor": 2
}
